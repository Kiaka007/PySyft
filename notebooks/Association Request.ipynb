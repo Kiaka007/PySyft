{
 "cells": [
  {
   "cell_type": "markdown",
   "id": "c66af10b",
   "metadata": {},
   "source": [
    "# New Association Request"
   ]
  },
  {
   "cell_type": "code",
   "execution_count": 1,
   "id": "e4732bb2",
   "metadata": {},
   "outputs": [],
   "source": [
    "import syft as sy"
   ]
  },
  {
   "cell_type": "code",
   "execution_count": 2,
   "id": "0413dc4e",
   "metadata": {},
   "outputs": [
    {
     "name": "stdout",
     "output_type": "stream",
     "text": [
      "WARNING: CHANGE YOUR USERNAME AND PASSWORD!!! \n",
      "\n",
      "Anyone can login as an admin to your node right now because your password is still the default PySyft username and password!!!\n",
      "\n",
      "Connecting to localhost... done! \t Logging into romantic_schmidhuber... done!\n",
      "WARNING: CHANGE YOUR USERNAME AND PASSWORD!!! \n",
      "\n",
      "Anyone can login as an admin to your node right now because your password is still the default PySyft username and password!!!\n",
      "\n",
      "Connecting to localhost... done! \t Logging into xenodochial_hinton... done!\n"
     ]
    }
   ],
   "source": [
    "domain = sy.login(email=\"info@openmined.org\", password=\"changethis\", port=8081)\n",
    "network = sy.login(email=\"info@openmined.org\", password=\"changethis\", port=8082)"
   ]
  },
  {
   "cell_type": "code",
   "execution_count": 3,
   "id": "ac97fb7e",
   "metadata": {},
   "outputs": [
    {
     "name": "stdout",
     "output_type": "stream",
     "text": [
      "🔌 <DomainClient - romantic_schmidhuber: <UID: caff06ea43d94ab79035fb82654d2b40>> successfully connected to the VPN: http://localhost:8082/api/v1\n",
      "Waiting to connect to VPN.\n",
      "Connected to VPN\n",
      "Failed to apply to network with <NetworkClient: xenodochial_hinton>. name 'association_table' is not defined\n"
     ]
    }
   ],
   "source": [
    "domain.apply_to_network(network)"
   ]
  },
  {
   "cell_type": "code",
   "execution_count": 4,
   "id": "dfeeafb1",
   "metadata": {},
   "outputs": [
    {
     "data": {
      "text/html": [
       "<div>\n",
       "<style scoped>\n",
       "    .dataframe tbody tr th:only-of-type {\n",
       "        vertical-align: middle;\n",
       "    }\n",
       "\n",
       "    .dataframe tbody tr th {\n",
       "        vertical-align: top;\n",
       "    }\n",
       "\n",
       "    .dataframe thead th {\n",
       "        text-align: right;\n",
       "    }\n",
       "</style>\n",
       "<table border=\"1\" class=\"dataframe\">\n",
       "  <thead>\n",
       "    <tr style=\"text-align: right;\">\n",
       "      <th></th>\n",
       "      <th>node_address</th>\n",
       "      <th>target</th>\n",
       "      <th>source</th>\n",
       "      <th>requested_date</th>\n",
       "      <th>association_id</th>\n",
       "      <th>email</th>\n",
       "      <th>reason</th>\n",
       "      <th>status</th>\n",
       "      <th>node_name</th>\n",
       "      <th>name</th>\n",
       "    </tr>\n",
       "  </thead>\n",
       "  <tbody>\n",
       "    <tr>\n",
       "      <th>0</th>\n",
       "      <td>a67115f233164659b6471cc0ac4902e4</td>\n",
       "      <td>100.64.0.1</td>\n",
       "      <td>100.64.0.2</td>\n",
       "      <td>05/16/2022</td>\n",
       "      <td>1</td>\n",
       "      <td></td>\n",
       "      <td></td>\n",
       "      <td>PENDING</td>\n",
       "      <td>xenodochial_hinton</td>\n",
       "      <td></td>\n",
       "    </tr>\n",
       "  </tbody>\n",
       "</table>\n",
       "</div>"
      ],
      "text/plain": [
       "<syft.core.node.common.client_manager.association_api.AssociationRequestAPI at 0x7fdc3f968040>"
      ]
     },
     "execution_count": 4,
     "metadata": {},
     "output_type": "execute_result"
    }
   ],
   "source": [
    "domain.association"
   ]
  },
  {
   "cell_type": "code",
   "execution_count": 5,
   "id": "6a3526eb",
   "metadata": {},
   "outputs": [
    {
     "data": {
      "text/html": [
       "<div>\n",
       "<style scoped>\n",
       "    .dataframe tbody tr th:only-of-type {\n",
       "        vertical-align: middle;\n",
       "    }\n",
       "\n",
       "    .dataframe tbody tr th {\n",
       "        vertical-align: top;\n",
       "    }\n",
       "\n",
       "    .dataframe thead th {\n",
       "        text-align: right;\n",
       "    }\n",
       "</style>\n",
       "<table border=\"1\" class=\"dataframe\">\n",
       "  <thead>\n",
       "    <tr style=\"text-align: right;\">\n",
       "      <th></th>\n",
       "      <th>status</th>\n",
       "      <th>name</th>\n",
       "      <th>node_address</th>\n",
       "      <th>requested_date</th>\n",
       "      <th>node_name</th>\n",
       "      <th>association_id</th>\n",
       "      <th>target</th>\n",
       "      <th>source</th>\n",
       "      <th>reason</th>\n",
       "      <th>email</th>\n",
       "    </tr>\n",
       "  </thead>\n",
       "  <tbody>\n",
       "    <tr>\n",
       "      <th>0</th>\n",
       "      <td>ACCEPTED</td>\n",
       "      <td></td>\n",
       "      <td>caff06ea43d94ab79035fb82654d2b40</td>\n",
       "      <td>05/16/2022</td>\n",
       "      <td>romantic-schmidhuber</td>\n",
       "      <td>1</td>\n",
       "      <td>100.64.0.1</td>\n",
       "      <td>100.64.0.2</td>\n",
       "      <td></td>\n",
       "      <td></td>\n",
       "    </tr>\n",
       "  </tbody>\n",
       "</table>\n",
       "</div>"
      ],
      "text/plain": [
       "<syft.core.node.common.client_manager.association_api.AssociationRequestAPI at 0x7fdc3f3b0730>"
      ]
     },
     "execution_count": 5,
     "metadata": {},
     "output_type": "execute_result"
    }
   ],
   "source": [
    "network.association"
   ]
  }
 ],
 "metadata": {
  "kernelspec": {
   "display_name": "Python 3 (ipykernel)",
   "language": "python",
   "name": "python3"
  },
  "language_info": {
   "codemirror_mode": {
    "name": "ipython",
    "version": 3
   },
   "file_extension": ".py",
   "mimetype": "text/x-python",
   "name": "python",
   "nbconvert_exporter": "python",
   "pygments_lexer": "ipython3",
   "version": "3.8.10"
  }
 },
 "nbformat": 4,
 "nbformat_minor": 5
}
